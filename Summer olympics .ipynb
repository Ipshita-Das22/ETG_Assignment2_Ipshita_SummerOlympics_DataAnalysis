{
  "nbformat": 4,
  "nbformat_minor": 0,
  "metadata": {
    "kernelspec": {
      "display_name": "Python 2",
      "language": "python",
      "name": "python2"
    },
    "language_info": {
      "codemirror_mode": {
        "name": "ipython",
        "version": 2
      },
      "file_extension": ".py",
      "mimetype": "text/x-python",
      "name": "python",
      "nbconvert_exporter": "python",
      "pygments_lexer": "ipython2",
      "version": "2.7.16"
    },
    "colab": {
      "name": "Summer.ipynb",
      "provenance": []
    }
  },
  "cells": [
    {
      "cell_type": "markdown",
      "metadata": {
        "id": "fiRW2PGrMGhw"
      },
      "source": [
        "# Summer Olympics Data Analysis Assignment"
      ]
    },
    {
      "cell_type": "code",
      "metadata": {
        "id": "UwZ5e_xYNkcS"
      },
      "source": [
        "import pandas as pd\n",
        "import numpy as np\n",
        "import matplotlib.pyplot as plt"
      ],
      "execution_count": 2,
      "outputs": []
    },
    {
      "cell_type": "code",
      "metadata": {
        "id": "ddOjlRbpNqD9"
      },
      "source": [
        "df = pd.read_csv(\"summer.csv\")"
      ],
      "execution_count": 3,
      "outputs": []
    },
    {
      "cell_type": "code",
      "metadata": {
        "colab": {
          "base_uri": "https://localhost:8080/",
          "height": 1000
        },
        "id": "vOD7fto6NzAp",
        "outputId": "b37465eb-3926-4edb-e9a7-5fa824c7390f"
      },
      "source": [
        "df.head(105)\n"
      ],
      "execution_count": 4,
      "outputs": [
        {
          "output_type": "execute_result",
          "data": {
            "text/plain": [
              "     Year    City       Sport   Discipline                      Athlete  \\\n",
              "0    1896  Athens    Aquatics     Swimming                HAJOS, Alfred   \n",
              "1    1896  Athens    Aquatics     Swimming             HERSCHMANN, Otto   \n",
              "2    1896  Athens    Aquatics     Swimming            DRIVAS, Dimitrios   \n",
              "3    1896  Athens    Aquatics     Swimming           MALOKINIS, Ioannis   \n",
              "4    1896  Athens    Aquatics     Swimming           CHASAPIS, Spiridon   \n",
              "5    1896  Athens    Aquatics     Swimming        CHOROPHAS, Efstathios   \n",
              "6    1896  Athens    Aquatics     Swimming                HAJOS, Alfred   \n",
              "7    1896  Athens    Aquatics     Swimming             ANDREOU, Joannis   \n",
              "8    1896  Athens    Aquatics     Swimming        CHOROPHAS, Efstathios   \n",
              "9    1896  Athens    Aquatics     Swimming                NEUMANN, Paul   \n",
              "10   1896  Athens    Aquatics     Swimming            PEPANOS, Antonios   \n",
              "11   1896  Athens   Athletics    Athletics                LANE, Francis   \n",
              "12   1896  Athens   Athletics    Athletics             SZOKOLYI, Alajos   \n",
              "13   1896  Athens   Athletics    Athletics                BURKE, Thomas   \n",
              "14   1896  Athens   Athletics    Athletics               HOFMANN, Fritz   \n",
              "15   1896  Athens   Athletics    Athletics               CURTIS, Thomas   \n",
              "16   1896  Athens   Athletics    Athletics           GOULDING, Grantley   \n",
              "17   1896  Athens   Athletics    Athletics            LERMUSIAUX, Albin   \n",
              "18   1896  Athens   Athletics    Athletics                 FLACK, Edwin   \n",
              "19   1896  Athens   Athletics    Athletics                BLAKE, Arthur   \n",
              "20   1896  Athens   Athletics    Athletics              GMELIN, Charles   \n",
              "21   1896  Athens   Athletics    Athletics                BURKE, Thomas   \n",
              "22   1896  Athens   Athletics    Athletics             JAMISON, Herbert   \n",
              "23   1896  Athens   Athletics    Athletics           GOLEMIS, Dimitrios   \n",
              "24   1896  Athens   Athletics    Athletics                 FLACK, Edwin   \n",
              "25   1896  Athens   Athletics    Athletics                 DANI, Nandor   \n",
              "26   1896  Athens   Athletics    Athletics             VERSIS, Sotirios   \n",
              "27   1896  Athens   Athletics    Athletics              GARRETT, Robert   \n",
              "28   1896  Athens   Athletics    Athletics  PARASKEVOPOULOS, Panagiotis   \n",
              "29   1896  Athens   Athletics    Athletics                CLARK, Ellery   \n",
              "..    ...     ...         ...          ...                          ...   \n",
              "75   1896  Athens  Gymnastics  Artistic G.                ZUTTER, Louis   \n",
              "76   1896  Athens  Gymnastics  Artistic G.                ZUTTER, Louis   \n",
              "77   1896  Athens  Gymnastics  Artistic G.         WEINGÄRTNER, Hermann   \n",
              "78   1896  Athens  Gymnastics  Artistic G.             PERSAKIS, Petros   \n",
              "79   1896  Athens  Gymnastics  Artistic G.         MITROPOULOS, Ioannis   \n",
              "80   1896  Athens  Gymnastics  Artistic G.         WEINGÄRTNER, Hermann   \n",
              "81   1896  Athens  Gymnastics  Artistic G.               HOFMANN, Fritz   \n",
              "82   1896  Athens  Gymnastics  Artistic G.     ANDRIAKOPOULOS, Nicolaos   \n",
              "83   1896  Athens  Gymnastics  Artistic G.           XENAKIS, Thomasios   \n",
              "84   1896  Athens  Gymnastics  Artistic G.               BÖCKER, Konrad   \n",
              "85   1896  Athens  Gymnastics  Artistic G.               FLATOW, Alfred   \n",
              "86   1896  Athens  Gymnastics  Artistic G.         FLATOW, Gustav Felix   \n",
              "87   1896  Athens  Gymnastics  Artistic G.                HILMAR, Georg   \n",
              "88   1896  Athens  Gymnastics  Artistic G.               HOFMANN, Fritz   \n",
              "89   1896  Athens  Gymnastics  Artistic G.            MANTEUFFEL, Fritz   \n",
              "90   1896  Athens  Gymnastics  Artistic G.               NEUKIRCH, Karl   \n",
              "91   1896  Athens  Gymnastics  Artistic G.              RÖSTEL, Richard   \n",
              "92   1896  Athens  Gymnastics  Artistic G.               SCHUFT, Gustav   \n",
              "93   1896  Athens  Gymnastics  Artistic G.               SCHUMANN, Carl   \n",
              "94   1896  Athens  Gymnastics  Artistic G.         WEINGÄRTNER, Hermann   \n",
              "95   1896  Athens  Gymnastics  Artistic G.          CHRYSAPHIS, Ioannis   \n",
              "96   1896  Athens  Gymnastics  Artistic G.         KARVELAS, Phillippos   \n",
              "97   1896  Athens  Gymnastics  Artistic G.          LOUNDRAS, Dimitrios   \n",
              "98   1896  Athens  Gymnastics  Artistic G.         MITROPOULOS, Ioannis   \n",
              "99   1896  Athens  Gymnastics  Artistic G.               BÖCKER, Konrad   \n",
              "100  1896  Athens  Gymnastics  Artistic G.               FLATOW, Alfred   \n",
              "101  1896  Athens  Gymnastics  Artistic G.         FLATOW, Gustav Felix   \n",
              "102  1896  Athens  Gymnastics  Artistic G.                HILMAR, Georg   \n",
              "103  1896  Athens  Gymnastics  Artistic G.               HOFMANN, Fritz   \n",
              "104  1896  Athens  Gymnastics  Artistic G.            MANTEUFFEL, Fritz   \n",
              "\n",
              "    Country Gender                       Event   Medal  \n",
              "0       HUN    Men              100M Freestyle    Gold  \n",
              "1       AUT    Men              100M Freestyle  Silver  \n",
              "2       GRE    Men  100M Freestyle For Sailors  Bronze  \n",
              "3       GRE    Men  100M Freestyle For Sailors    Gold  \n",
              "4       GRE    Men  100M Freestyle For Sailors  Silver  \n",
              "5       GRE    Men             1200M Freestyle  Bronze  \n",
              "6       HUN    Men             1200M Freestyle    Gold  \n",
              "7       GRE    Men             1200M Freestyle  Silver  \n",
              "8       GRE    Men              400M Freestyle  Bronze  \n",
              "9       AUT    Men              400M Freestyle    Gold  \n",
              "10      GRE    Men              400M Freestyle  Silver  \n",
              "11      USA    Men                        100M  Bronze  \n",
              "12      HUN    Men                        100M  Bronze  \n",
              "13      USA    Men                        100M    Gold  \n",
              "14      GER    Men                        100M  Silver  \n",
              "15      USA    Men                110M Hurdles    Gold  \n",
              "16      GBR    Men                110M Hurdles  Silver  \n",
              "17      FRA    Men                       1500M  Bronze  \n",
              "18      AUS    Men                       1500M    Gold  \n",
              "19      USA    Men                       1500M  Silver  \n",
              "20      GBR    Men                        400M  Bronze  \n",
              "21      USA    Men                        400M    Gold  \n",
              "22      USA    Men                        400M  Silver  \n",
              "23      GRE    Men                        800M  Bronze  \n",
              "24      AUS    Men                        800M    Gold  \n",
              "25      HUN    Men                        800M  Silver  \n",
              "26      GRE    Men                Discus Throw  Bronze  \n",
              "27      USA    Men                Discus Throw    Gold  \n",
              "28      GRE    Men                Discus Throw  Silver  \n",
              "29      USA    Men                   High Jump    Gold  \n",
              "..      ...    ...                         ...     ...  \n",
              "75      SUI    Men               Parallel Bars  Silver  \n",
              "76      SUI    Men                Pommel Horse    Gold  \n",
              "77      GER    Men                Pommel Horse  Silver  \n",
              "78      GRE    Men                       Rings  Bronze  \n",
              "79      GRE    Men                       Rings    Gold  \n",
              "80      GER    Men                       Rings  Silver  \n",
              "81      GER    Men               Rope Climbing  Bronze  \n",
              "82      GRE    Men               Rope Climbing    Gold  \n",
              "83      GRE    Men               Rope Climbing  Silver  \n",
              "84      GER    Men        Team, Horizontal Bar    Gold  \n",
              "85      GER    Men        Team, Horizontal Bar    Gold  \n",
              "86      GER    Men        Team, Horizontal Bar    Gold  \n",
              "87      GER    Men        Team, Horizontal Bar    Gold  \n",
              "88      GER    Men        Team, Horizontal Bar    Gold  \n",
              "89      GER    Men        Team, Horizontal Bar    Gold  \n",
              "90      GER    Men        Team, Horizontal Bar    Gold  \n",
              "91      GER    Men        Team, Horizontal Bar    Gold  \n",
              "92      GER    Men        Team, Horizontal Bar    Gold  \n",
              "93      GER    Men        Team, Horizontal Bar    Gold  \n",
              "94      GER    Men        Team, Horizontal Bar    Gold  \n",
              "95      GRE    Men         Team, Parallel Bars  Bronze  \n",
              "96      GRE    Men         Team, Parallel Bars  Bronze  \n",
              "97      GRE    Men         Team, Parallel Bars  Bronze  \n",
              "98      GRE    Men         Team, Parallel Bars  Bronze  \n",
              "99      GER    Men         Team, Parallel Bars    Gold  \n",
              "100     GER    Men         Team, Parallel Bars    Gold  \n",
              "101     GER    Men         Team, Parallel Bars    Gold  \n",
              "102     GER    Men         Team, Parallel Bars    Gold  \n",
              "103     GER    Men         Team, Parallel Bars    Gold  \n",
              "104     GER    Men         Team, Parallel Bars    Gold  \n",
              "\n",
              "[105 rows x 9 columns]"
            ],
            "text/html": [
              "<div>\n",
              "<style scoped>\n",
              "    .dataframe tbody tr th:only-of-type {\n",
              "        vertical-align: middle;\n",
              "    }\n",
              "\n",
              "    .dataframe tbody tr th {\n",
              "        vertical-align: top;\n",
              "    }\n",
              "\n",
              "    .dataframe thead th {\n",
              "        text-align: right;\n",
              "    }\n",
              "</style>\n",
              "<table border=\"1\" class=\"dataframe\">\n",
              "  <thead>\n",
              "    <tr style=\"text-align: right;\">\n",
              "      <th></th>\n",
              "      <th>Year</th>\n",
              "      <th>City</th>\n",
              "      <th>Sport</th>\n",
              "      <th>Discipline</th>\n",
              "      <th>Athlete</th>\n",
              "      <th>Country</th>\n",
              "      <th>Gender</th>\n",
              "      <th>Event</th>\n",
              "      <th>Medal</th>\n",
              "    </tr>\n",
              "  </thead>\n",
              "  <tbody>\n",
              "    <tr>\n",
              "      <th>0</th>\n",
              "      <td>1896</td>\n",
              "      <td>Athens</td>\n",
              "      <td>Aquatics</td>\n",
              "      <td>Swimming</td>\n",
              "      <td>HAJOS, Alfred</td>\n",
              "      <td>HUN</td>\n",
              "      <td>Men</td>\n",
              "      <td>100M Freestyle</td>\n",
              "      <td>Gold</td>\n",
              "    </tr>\n",
              "    <tr>\n",
              "      <th>1</th>\n",
              "      <td>1896</td>\n",
              "      <td>Athens</td>\n",
              "      <td>Aquatics</td>\n",
              "      <td>Swimming</td>\n",
              "      <td>HERSCHMANN, Otto</td>\n",
              "      <td>AUT</td>\n",
              "      <td>Men</td>\n",
              "      <td>100M Freestyle</td>\n",
              "      <td>Silver</td>\n",
              "    </tr>\n",
              "    <tr>\n",
              "      <th>2</th>\n",
              "      <td>1896</td>\n",
              "      <td>Athens</td>\n",
              "      <td>Aquatics</td>\n",
              "      <td>Swimming</td>\n",
              "      <td>DRIVAS, Dimitrios</td>\n",
              "      <td>GRE</td>\n",
              "      <td>Men</td>\n",
              "      <td>100M Freestyle For Sailors</td>\n",
              "      <td>Bronze</td>\n",
              "    </tr>\n",
              "    <tr>\n",
              "      <th>3</th>\n",
              "      <td>1896</td>\n",
              "      <td>Athens</td>\n",
              "      <td>Aquatics</td>\n",
              "      <td>Swimming</td>\n",
              "      <td>MALOKINIS, Ioannis</td>\n",
              "      <td>GRE</td>\n",
              "      <td>Men</td>\n",
              "      <td>100M Freestyle For Sailors</td>\n",
              "      <td>Gold</td>\n",
              "    </tr>\n",
              "    <tr>\n",
              "      <th>4</th>\n",
              "      <td>1896</td>\n",
              "      <td>Athens</td>\n",
              "      <td>Aquatics</td>\n",
              "      <td>Swimming</td>\n",
              "      <td>CHASAPIS, Spiridon</td>\n",
              "      <td>GRE</td>\n",
              "      <td>Men</td>\n",
              "      <td>100M Freestyle For Sailors</td>\n",
              "      <td>Silver</td>\n",
              "    </tr>\n",
              "    <tr>\n",
              "      <th>5</th>\n",
              "      <td>1896</td>\n",
              "      <td>Athens</td>\n",
              "      <td>Aquatics</td>\n",
              "      <td>Swimming</td>\n",
              "      <td>CHOROPHAS, Efstathios</td>\n",
              "      <td>GRE</td>\n",
              "      <td>Men</td>\n",
              "      <td>1200M Freestyle</td>\n",
              "      <td>Bronze</td>\n",
              "    </tr>\n",
              "    <tr>\n",
              "      <th>6</th>\n",
              "      <td>1896</td>\n",
              "      <td>Athens</td>\n",
              "      <td>Aquatics</td>\n",
              "      <td>Swimming</td>\n",
              "      <td>HAJOS, Alfred</td>\n",
              "      <td>HUN</td>\n",
              "      <td>Men</td>\n",
              "      <td>1200M Freestyle</td>\n",
              "      <td>Gold</td>\n",
              "    </tr>\n",
              "    <tr>\n",
              "      <th>7</th>\n",
              "      <td>1896</td>\n",
              "      <td>Athens</td>\n",
              "      <td>Aquatics</td>\n",
              "      <td>Swimming</td>\n",
              "      <td>ANDREOU, Joannis</td>\n",
              "      <td>GRE</td>\n",
              "      <td>Men</td>\n",
              "      <td>1200M Freestyle</td>\n",
              "      <td>Silver</td>\n",
              "    </tr>\n",
              "    <tr>\n",
              "      <th>8</th>\n",
              "      <td>1896</td>\n",
              "      <td>Athens</td>\n",
              "      <td>Aquatics</td>\n",
              "      <td>Swimming</td>\n",
              "      <td>CHOROPHAS, Efstathios</td>\n",
              "      <td>GRE</td>\n",
              "      <td>Men</td>\n",
              "      <td>400M Freestyle</td>\n",
              "      <td>Bronze</td>\n",
              "    </tr>\n",
              "    <tr>\n",
              "      <th>9</th>\n",
              "      <td>1896</td>\n",
              "      <td>Athens</td>\n",
              "      <td>Aquatics</td>\n",
              "      <td>Swimming</td>\n",
              "      <td>NEUMANN, Paul</td>\n",
              "      <td>AUT</td>\n",
              "      <td>Men</td>\n",
              "      <td>400M Freestyle</td>\n",
              "      <td>Gold</td>\n",
              "    </tr>\n",
              "    <tr>\n",
              "      <th>10</th>\n",
              "      <td>1896</td>\n",
              "      <td>Athens</td>\n",
              "      <td>Aquatics</td>\n",
              "      <td>Swimming</td>\n",
              "      <td>PEPANOS, Antonios</td>\n",
              "      <td>GRE</td>\n",
              "      <td>Men</td>\n",
              "      <td>400M Freestyle</td>\n",
              "      <td>Silver</td>\n",
              "    </tr>\n",
              "    <tr>\n",
              "      <th>11</th>\n",
              "      <td>1896</td>\n",
              "      <td>Athens</td>\n",
              "      <td>Athletics</td>\n",
              "      <td>Athletics</td>\n",
              "      <td>LANE, Francis</td>\n",
              "      <td>USA</td>\n",
              "      <td>Men</td>\n",
              "      <td>100M</td>\n",
              "      <td>Bronze</td>\n",
              "    </tr>\n",
              "    <tr>\n",
              "      <th>12</th>\n",
              "      <td>1896</td>\n",
              "      <td>Athens</td>\n",
              "      <td>Athletics</td>\n",
              "      <td>Athletics</td>\n",
              "      <td>SZOKOLYI, Alajos</td>\n",
              "      <td>HUN</td>\n",
              "      <td>Men</td>\n",
              "      <td>100M</td>\n",
              "      <td>Bronze</td>\n",
              "    </tr>\n",
              "    <tr>\n",
              "      <th>13</th>\n",
              "      <td>1896</td>\n",
              "      <td>Athens</td>\n",
              "      <td>Athletics</td>\n",
              "      <td>Athletics</td>\n",
              "      <td>BURKE, Thomas</td>\n",
              "      <td>USA</td>\n",
              "      <td>Men</td>\n",
              "      <td>100M</td>\n",
              "      <td>Gold</td>\n",
              "    </tr>\n",
              "    <tr>\n",
              "      <th>14</th>\n",
              "      <td>1896</td>\n",
              "      <td>Athens</td>\n",
              "      <td>Athletics</td>\n",
              "      <td>Athletics</td>\n",
              "      <td>HOFMANN, Fritz</td>\n",
              "      <td>GER</td>\n",
              "      <td>Men</td>\n",
              "      <td>100M</td>\n",
              "      <td>Silver</td>\n",
              "    </tr>\n",
              "    <tr>\n",
              "      <th>15</th>\n",
              "      <td>1896</td>\n",
              "      <td>Athens</td>\n",
              "      <td>Athletics</td>\n",
              "      <td>Athletics</td>\n",
              "      <td>CURTIS, Thomas</td>\n",
              "      <td>USA</td>\n",
              "      <td>Men</td>\n",
              "      <td>110M Hurdles</td>\n",
              "      <td>Gold</td>\n",
              "    </tr>\n",
              "    <tr>\n",
              "      <th>16</th>\n",
              "      <td>1896</td>\n",
              "      <td>Athens</td>\n",
              "      <td>Athletics</td>\n",
              "      <td>Athletics</td>\n",
              "      <td>GOULDING, Grantley</td>\n",
              "      <td>GBR</td>\n",
              "      <td>Men</td>\n",
              "      <td>110M Hurdles</td>\n",
              "      <td>Silver</td>\n",
              "    </tr>\n",
              "    <tr>\n",
              "      <th>17</th>\n",
              "      <td>1896</td>\n",
              "      <td>Athens</td>\n",
              "      <td>Athletics</td>\n",
              "      <td>Athletics</td>\n",
              "      <td>LERMUSIAUX, Albin</td>\n",
              "      <td>FRA</td>\n",
              "      <td>Men</td>\n",
              "      <td>1500M</td>\n",
              "      <td>Bronze</td>\n",
              "    </tr>\n",
              "    <tr>\n",
              "      <th>18</th>\n",
              "      <td>1896</td>\n",
              "      <td>Athens</td>\n",
              "      <td>Athletics</td>\n",
              "      <td>Athletics</td>\n",
              "      <td>FLACK, Edwin</td>\n",
              "      <td>AUS</td>\n",
              "      <td>Men</td>\n",
              "      <td>1500M</td>\n",
              "      <td>Gold</td>\n",
              "    </tr>\n",
              "    <tr>\n",
              "      <th>19</th>\n",
              "      <td>1896</td>\n",
              "      <td>Athens</td>\n",
              "      <td>Athletics</td>\n",
              "      <td>Athletics</td>\n",
              "      <td>BLAKE, Arthur</td>\n",
              "      <td>USA</td>\n",
              "      <td>Men</td>\n",
              "      <td>1500M</td>\n",
              "      <td>Silver</td>\n",
              "    </tr>\n",
              "    <tr>\n",
              "      <th>20</th>\n",
              "      <td>1896</td>\n",
              "      <td>Athens</td>\n",
              "      <td>Athletics</td>\n",
              "      <td>Athletics</td>\n",
              "      <td>GMELIN, Charles</td>\n",
              "      <td>GBR</td>\n",
              "      <td>Men</td>\n",
              "      <td>400M</td>\n",
              "      <td>Bronze</td>\n",
              "    </tr>\n",
              "    <tr>\n",
              "      <th>21</th>\n",
              "      <td>1896</td>\n",
              "      <td>Athens</td>\n",
              "      <td>Athletics</td>\n",
              "      <td>Athletics</td>\n",
              "      <td>BURKE, Thomas</td>\n",
              "      <td>USA</td>\n",
              "      <td>Men</td>\n",
              "      <td>400M</td>\n",
              "      <td>Gold</td>\n",
              "    </tr>\n",
              "    <tr>\n",
              "      <th>22</th>\n",
              "      <td>1896</td>\n",
              "      <td>Athens</td>\n",
              "      <td>Athletics</td>\n",
              "      <td>Athletics</td>\n",
              "      <td>JAMISON, Herbert</td>\n",
              "      <td>USA</td>\n",
              "      <td>Men</td>\n",
              "      <td>400M</td>\n",
              "      <td>Silver</td>\n",
              "    </tr>\n",
              "    <tr>\n",
              "      <th>23</th>\n",
              "      <td>1896</td>\n",
              "      <td>Athens</td>\n",
              "      <td>Athletics</td>\n",
              "      <td>Athletics</td>\n",
              "      <td>GOLEMIS, Dimitrios</td>\n",
              "      <td>GRE</td>\n",
              "      <td>Men</td>\n",
              "      <td>800M</td>\n",
              "      <td>Bronze</td>\n",
              "    </tr>\n",
              "    <tr>\n",
              "      <th>24</th>\n",
              "      <td>1896</td>\n",
              "      <td>Athens</td>\n",
              "      <td>Athletics</td>\n",
              "      <td>Athletics</td>\n",
              "      <td>FLACK, Edwin</td>\n",
              "      <td>AUS</td>\n",
              "      <td>Men</td>\n",
              "      <td>800M</td>\n",
              "      <td>Gold</td>\n",
              "    </tr>\n",
              "    <tr>\n",
              "      <th>25</th>\n",
              "      <td>1896</td>\n",
              "      <td>Athens</td>\n",
              "      <td>Athletics</td>\n",
              "      <td>Athletics</td>\n",
              "      <td>DANI, Nandor</td>\n",
              "      <td>HUN</td>\n",
              "      <td>Men</td>\n",
              "      <td>800M</td>\n",
              "      <td>Silver</td>\n",
              "    </tr>\n",
              "    <tr>\n",
              "      <th>26</th>\n",
              "      <td>1896</td>\n",
              "      <td>Athens</td>\n",
              "      <td>Athletics</td>\n",
              "      <td>Athletics</td>\n",
              "      <td>VERSIS, Sotirios</td>\n",
              "      <td>GRE</td>\n",
              "      <td>Men</td>\n",
              "      <td>Discus Throw</td>\n",
              "      <td>Bronze</td>\n",
              "    </tr>\n",
              "    <tr>\n",
              "      <th>27</th>\n",
              "      <td>1896</td>\n",
              "      <td>Athens</td>\n",
              "      <td>Athletics</td>\n",
              "      <td>Athletics</td>\n",
              "      <td>GARRETT, Robert</td>\n",
              "      <td>USA</td>\n",
              "      <td>Men</td>\n",
              "      <td>Discus Throw</td>\n",
              "      <td>Gold</td>\n",
              "    </tr>\n",
              "    <tr>\n",
              "      <th>28</th>\n",
              "      <td>1896</td>\n",
              "      <td>Athens</td>\n",
              "      <td>Athletics</td>\n",
              "      <td>Athletics</td>\n",
              "      <td>PARASKEVOPOULOS, Panagiotis</td>\n",
              "      <td>GRE</td>\n",
              "      <td>Men</td>\n",
              "      <td>Discus Throw</td>\n",
              "      <td>Silver</td>\n",
              "    </tr>\n",
              "    <tr>\n",
              "      <th>29</th>\n",
              "      <td>1896</td>\n",
              "      <td>Athens</td>\n",
              "      <td>Athletics</td>\n",
              "      <td>Athletics</td>\n",
              "      <td>CLARK, Ellery</td>\n",
              "      <td>USA</td>\n",
              "      <td>Men</td>\n",
              "      <td>High Jump</td>\n",
              "      <td>Gold</td>\n",
              "    </tr>\n",
              "    <tr>\n",
              "      <th>...</th>\n",
              "      <td>...</td>\n",
              "      <td>...</td>\n",
              "      <td>...</td>\n",
              "      <td>...</td>\n",
              "      <td>...</td>\n",
              "      <td>...</td>\n",
              "      <td>...</td>\n",
              "      <td>...</td>\n",
              "      <td>...</td>\n",
              "    </tr>\n",
              "    <tr>\n",
              "      <th>75</th>\n",
              "      <td>1896</td>\n",
              "      <td>Athens</td>\n",
              "      <td>Gymnastics</td>\n",
              "      <td>Artistic G.</td>\n",
              "      <td>ZUTTER, Louis</td>\n",
              "      <td>SUI</td>\n",
              "      <td>Men</td>\n",
              "      <td>Parallel Bars</td>\n",
              "      <td>Silver</td>\n",
              "    </tr>\n",
              "    <tr>\n",
              "      <th>76</th>\n",
              "      <td>1896</td>\n",
              "      <td>Athens</td>\n",
              "      <td>Gymnastics</td>\n",
              "      <td>Artistic G.</td>\n",
              "      <td>ZUTTER, Louis</td>\n",
              "      <td>SUI</td>\n",
              "      <td>Men</td>\n",
              "      <td>Pommel Horse</td>\n",
              "      <td>Gold</td>\n",
              "    </tr>\n",
              "    <tr>\n",
              "      <th>77</th>\n",
              "      <td>1896</td>\n",
              "      <td>Athens</td>\n",
              "      <td>Gymnastics</td>\n",
              "      <td>Artistic G.</td>\n",
              "      <td>WEINGÄRTNER, Hermann</td>\n",
              "      <td>GER</td>\n",
              "      <td>Men</td>\n",
              "      <td>Pommel Horse</td>\n",
              "      <td>Silver</td>\n",
              "    </tr>\n",
              "    <tr>\n",
              "      <th>78</th>\n",
              "      <td>1896</td>\n",
              "      <td>Athens</td>\n",
              "      <td>Gymnastics</td>\n",
              "      <td>Artistic G.</td>\n",
              "      <td>PERSAKIS, Petros</td>\n",
              "      <td>GRE</td>\n",
              "      <td>Men</td>\n",
              "      <td>Rings</td>\n",
              "      <td>Bronze</td>\n",
              "    </tr>\n",
              "    <tr>\n",
              "      <th>79</th>\n",
              "      <td>1896</td>\n",
              "      <td>Athens</td>\n",
              "      <td>Gymnastics</td>\n",
              "      <td>Artistic G.</td>\n",
              "      <td>MITROPOULOS, Ioannis</td>\n",
              "      <td>GRE</td>\n",
              "      <td>Men</td>\n",
              "      <td>Rings</td>\n",
              "      <td>Gold</td>\n",
              "    </tr>\n",
              "    <tr>\n",
              "      <th>80</th>\n",
              "      <td>1896</td>\n",
              "      <td>Athens</td>\n",
              "      <td>Gymnastics</td>\n",
              "      <td>Artistic G.</td>\n",
              "      <td>WEINGÄRTNER, Hermann</td>\n",
              "      <td>GER</td>\n",
              "      <td>Men</td>\n",
              "      <td>Rings</td>\n",
              "      <td>Silver</td>\n",
              "    </tr>\n",
              "    <tr>\n",
              "      <th>81</th>\n",
              "      <td>1896</td>\n",
              "      <td>Athens</td>\n",
              "      <td>Gymnastics</td>\n",
              "      <td>Artistic G.</td>\n",
              "      <td>HOFMANN, Fritz</td>\n",
              "      <td>GER</td>\n",
              "      <td>Men</td>\n",
              "      <td>Rope Climbing</td>\n",
              "      <td>Bronze</td>\n",
              "    </tr>\n",
              "    <tr>\n",
              "      <th>82</th>\n",
              "      <td>1896</td>\n",
              "      <td>Athens</td>\n",
              "      <td>Gymnastics</td>\n",
              "      <td>Artistic G.</td>\n",
              "      <td>ANDRIAKOPOULOS, Nicolaos</td>\n",
              "      <td>GRE</td>\n",
              "      <td>Men</td>\n",
              "      <td>Rope Climbing</td>\n",
              "      <td>Gold</td>\n",
              "    </tr>\n",
              "    <tr>\n",
              "      <th>83</th>\n",
              "      <td>1896</td>\n",
              "      <td>Athens</td>\n",
              "      <td>Gymnastics</td>\n",
              "      <td>Artistic G.</td>\n",
              "      <td>XENAKIS, Thomasios</td>\n",
              "      <td>GRE</td>\n",
              "      <td>Men</td>\n",
              "      <td>Rope Climbing</td>\n",
              "      <td>Silver</td>\n",
              "    </tr>\n",
              "    <tr>\n",
              "      <th>84</th>\n",
              "      <td>1896</td>\n",
              "      <td>Athens</td>\n",
              "      <td>Gymnastics</td>\n",
              "      <td>Artistic G.</td>\n",
              "      <td>BÖCKER, Konrad</td>\n",
              "      <td>GER</td>\n",
              "      <td>Men</td>\n",
              "      <td>Team, Horizontal Bar</td>\n",
              "      <td>Gold</td>\n",
              "    </tr>\n",
              "    <tr>\n",
              "      <th>85</th>\n",
              "      <td>1896</td>\n",
              "      <td>Athens</td>\n",
              "      <td>Gymnastics</td>\n",
              "      <td>Artistic G.</td>\n",
              "      <td>FLATOW, Alfred</td>\n",
              "      <td>GER</td>\n",
              "      <td>Men</td>\n",
              "      <td>Team, Horizontal Bar</td>\n",
              "      <td>Gold</td>\n",
              "    </tr>\n",
              "    <tr>\n",
              "      <th>86</th>\n",
              "      <td>1896</td>\n",
              "      <td>Athens</td>\n",
              "      <td>Gymnastics</td>\n",
              "      <td>Artistic G.</td>\n",
              "      <td>FLATOW, Gustav Felix</td>\n",
              "      <td>GER</td>\n",
              "      <td>Men</td>\n",
              "      <td>Team, Horizontal Bar</td>\n",
              "      <td>Gold</td>\n",
              "    </tr>\n",
              "    <tr>\n",
              "      <th>87</th>\n",
              "      <td>1896</td>\n",
              "      <td>Athens</td>\n",
              "      <td>Gymnastics</td>\n",
              "      <td>Artistic G.</td>\n",
              "      <td>HILMAR, Georg</td>\n",
              "      <td>GER</td>\n",
              "      <td>Men</td>\n",
              "      <td>Team, Horizontal Bar</td>\n",
              "      <td>Gold</td>\n",
              "    </tr>\n",
              "    <tr>\n",
              "      <th>88</th>\n",
              "      <td>1896</td>\n",
              "      <td>Athens</td>\n",
              "      <td>Gymnastics</td>\n",
              "      <td>Artistic G.</td>\n",
              "      <td>HOFMANN, Fritz</td>\n",
              "      <td>GER</td>\n",
              "      <td>Men</td>\n",
              "      <td>Team, Horizontal Bar</td>\n",
              "      <td>Gold</td>\n",
              "    </tr>\n",
              "    <tr>\n",
              "      <th>89</th>\n",
              "      <td>1896</td>\n",
              "      <td>Athens</td>\n",
              "      <td>Gymnastics</td>\n",
              "      <td>Artistic G.</td>\n",
              "      <td>MANTEUFFEL, Fritz</td>\n",
              "      <td>GER</td>\n",
              "      <td>Men</td>\n",
              "      <td>Team, Horizontal Bar</td>\n",
              "      <td>Gold</td>\n",
              "    </tr>\n",
              "    <tr>\n",
              "      <th>90</th>\n",
              "      <td>1896</td>\n",
              "      <td>Athens</td>\n",
              "      <td>Gymnastics</td>\n",
              "      <td>Artistic G.</td>\n",
              "      <td>NEUKIRCH, Karl</td>\n",
              "      <td>GER</td>\n",
              "      <td>Men</td>\n",
              "      <td>Team, Horizontal Bar</td>\n",
              "      <td>Gold</td>\n",
              "    </tr>\n",
              "    <tr>\n",
              "      <th>91</th>\n",
              "      <td>1896</td>\n",
              "      <td>Athens</td>\n",
              "      <td>Gymnastics</td>\n",
              "      <td>Artistic G.</td>\n",
              "      <td>RÖSTEL, Richard</td>\n",
              "      <td>GER</td>\n",
              "      <td>Men</td>\n",
              "      <td>Team, Horizontal Bar</td>\n",
              "      <td>Gold</td>\n",
              "    </tr>\n",
              "    <tr>\n",
              "      <th>92</th>\n",
              "      <td>1896</td>\n",
              "      <td>Athens</td>\n",
              "      <td>Gymnastics</td>\n",
              "      <td>Artistic G.</td>\n",
              "      <td>SCHUFT, Gustav</td>\n",
              "      <td>GER</td>\n",
              "      <td>Men</td>\n",
              "      <td>Team, Horizontal Bar</td>\n",
              "      <td>Gold</td>\n",
              "    </tr>\n",
              "    <tr>\n",
              "      <th>93</th>\n",
              "      <td>1896</td>\n",
              "      <td>Athens</td>\n",
              "      <td>Gymnastics</td>\n",
              "      <td>Artistic G.</td>\n",
              "      <td>SCHUMANN, Carl</td>\n",
              "      <td>GER</td>\n",
              "      <td>Men</td>\n",
              "      <td>Team, Horizontal Bar</td>\n",
              "      <td>Gold</td>\n",
              "    </tr>\n",
              "    <tr>\n",
              "      <th>94</th>\n",
              "      <td>1896</td>\n",
              "      <td>Athens</td>\n",
              "      <td>Gymnastics</td>\n",
              "      <td>Artistic G.</td>\n",
              "      <td>WEINGÄRTNER, Hermann</td>\n",
              "      <td>GER</td>\n",
              "      <td>Men</td>\n",
              "      <td>Team, Horizontal Bar</td>\n",
              "      <td>Gold</td>\n",
              "    </tr>\n",
              "    <tr>\n",
              "      <th>95</th>\n",
              "      <td>1896</td>\n",
              "      <td>Athens</td>\n",
              "      <td>Gymnastics</td>\n",
              "      <td>Artistic G.</td>\n",
              "      <td>CHRYSAPHIS, Ioannis</td>\n",
              "      <td>GRE</td>\n",
              "      <td>Men</td>\n",
              "      <td>Team, Parallel Bars</td>\n",
              "      <td>Bronze</td>\n",
              "    </tr>\n",
              "    <tr>\n",
              "      <th>96</th>\n",
              "      <td>1896</td>\n",
              "      <td>Athens</td>\n",
              "      <td>Gymnastics</td>\n",
              "      <td>Artistic G.</td>\n",
              "      <td>KARVELAS, Phillippos</td>\n",
              "      <td>GRE</td>\n",
              "      <td>Men</td>\n",
              "      <td>Team, Parallel Bars</td>\n",
              "      <td>Bronze</td>\n",
              "    </tr>\n",
              "    <tr>\n",
              "      <th>97</th>\n",
              "      <td>1896</td>\n",
              "      <td>Athens</td>\n",
              "      <td>Gymnastics</td>\n",
              "      <td>Artistic G.</td>\n",
              "      <td>LOUNDRAS, Dimitrios</td>\n",
              "      <td>GRE</td>\n",
              "      <td>Men</td>\n",
              "      <td>Team, Parallel Bars</td>\n",
              "      <td>Bronze</td>\n",
              "    </tr>\n",
              "    <tr>\n",
              "      <th>98</th>\n",
              "      <td>1896</td>\n",
              "      <td>Athens</td>\n",
              "      <td>Gymnastics</td>\n",
              "      <td>Artistic G.</td>\n",
              "      <td>MITROPOULOS, Ioannis</td>\n",
              "      <td>GRE</td>\n",
              "      <td>Men</td>\n",
              "      <td>Team, Parallel Bars</td>\n",
              "      <td>Bronze</td>\n",
              "    </tr>\n",
              "    <tr>\n",
              "      <th>99</th>\n",
              "      <td>1896</td>\n",
              "      <td>Athens</td>\n",
              "      <td>Gymnastics</td>\n",
              "      <td>Artistic G.</td>\n",
              "      <td>BÖCKER, Konrad</td>\n",
              "      <td>GER</td>\n",
              "      <td>Men</td>\n",
              "      <td>Team, Parallel Bars</td>\n",
              "      <td>Gold</td>\n",
              "    </tr>\n",
              "    <tr>\n",
              "      <th>100</th>\n",
              "      <td>1896</td>\n",
              "      <td>Athens</td>\n",
              "      <td>Gymnastics</td>\n",
              "      <td>Artistic G.</td>\n",
              "      <td>FLATOW, Alfred</td>\n",
              "      <td>GER</td>\n",
              "      <td>Men</td>\n",
              "      <td>Team, Parallel Bars</td>\n",
              "      <td>Gold</td>\n",
              "    </tr>\n",
              "    <tr>\n",
              "      <th>101</th>\n",
              "      <td>1896</td>\n",
              "      <td>Athens</td>\n",
              "      <td>Gymnastics</td>\n",
              "      <td>Artistic G.</td>\n",
              "      <td>FLATOW, Gustav Felix</td>\n",
              "      <td>GER</td>\n",
              "      <td>Men</td>\n",
              "      <td>Team, Parallel Bars</td>\n",
              "      <td>Gold</td>\n",
              "    </tr>\n",
              "    <tr>\n",
              "      <th>102</th>\n",
              "      <td>1896</td>\n",
              "      <td>Athens</td>\n",
              "      <td>Gymnastics</td>\n",
              "      <td>Artistic G.</td>\n",
              "      <td>HILMAR, Georg</td>\n",
              "      <td>GER</td>\n",
              "      <td>Men</td>\n",
              "      <td>Team, Parallel Bars</td>\n",
              "      <td>Gold</td>\n",
              "    </tr>\n",
              "    <tr>\n",
              "      <th>103</th>\n",
              "      <td>1896</td>\n",
              "      <td>Athens</td>\n",
              "      <td>Gymnastics</td>\n",
              "      <td>Artistic G.</td>\n",
              "      <td>HOFMANN, Fritz</td>\n",
              "      <td>GER</td>\n",
              "      <td>Men</td>\n",
              "      <td>Team, Parallel Bars</td>\n",
              "      <td>Gold</td>\n",
              "    </tr>\n",
              "    <tr>\n",
              "      <th>104</th>\n",
              "      <td>1896</td>\n",
              "      <td>Athens</td>\n",
              "      <td>Gymnastics</td>\n",
              "      <td>Artistic G.</td>\n",
              "      <td>MANTEUFFEL, Fritz</td>\n",
              "      <td>GER</td>\n",
              "      <td>Men</td>\n",
              "      <td>Team, Parallel Bars</td>\n",
              "      <td>Gold</td>\n",
              "    </tr>\n",
              "  </tbody>\n",
              "</table>\n",
              "<p>105 rows × 9 columns</p>\n",
              "</div>"
            ]
          },
          "metadata": {},
          "execution_count": 4
        }
      ]
    },
    {
      "cell_type": "code",
      "metadata": {
        "id": "qu0w5clo4PdR"
      },
      "source": [
        "data = df.values"
      ],
      "execution_count": 5,
      "outputs": []
    },
    {
      "cell_type": "code",
      "metadata": {
        "colab": {
          "base_uri": "https://localhost:8080/"
        },
        "id": "v9NrkUYC1Iwt",
        "outputId": "b6a719db-bd55-4d66-e463-9de0e8ac0fa1"
      },
      "source": [
        "data"
      ],
      "execution_count": 6,
      "outputs": [
        {
          "output_type": "execute_result",
          "data": {
            "text/plain": [
              "array([[1896, 'Athens', 'Aquatics', ..., 'Men', '100M Freestyle', 'Gold'],\n",
              "       [1896, 'Athens', 'Aquatics', ..., 'Men', '100M Freestyle',\n",
              "        'Silver'],\n",
              "       [1896, 'Athens', 'Aquatics', ..., 'Men',\n",
              "        '100M Freestyle For Sailors', 'Bronze'],\n",
              "       ...,\n",
              "       [2012, 'London', 'Wrestling', ..., 'Men', 'Wg 96 KG', 'Silver'],\n",
              "       [2012, 'London', 'Wrestling', ..., 'Men', 'Wg 96 KG', 'Bronze'],\n",
              "       [2012, 'London', 'Wrestling', ..., 'Men', 'Wg 96 KG', 'Bronze']],\n",
              "      dtype=object)"
            ]
          },
          "metadata": {},
          "execution_count": 6
        }
      ]
    },
    {
      "cell_type": "markdown",
      "metadata": {
        "id": "C7vntvfgMGh1"
      },
      "source": [
        "### 1. In how many cities Summer Olympics is held so far?"
      ]
    },
    {
      "cell_type": "code",
      "metadata": {
        "colab": {
          "base_uri": "https://localhost:8080/"
        },
        "id": "alP38isHMGh4",
        "outputId": "545320ab-2d3f-4599-8014-9fef8f5f49f8"
      },
      "source": [
        "print(\"TOTAL NUMBER OF CITIES THAT ORGANIZED SUMMER OLYMPICS ARE,\",len(df['City'].unique()))"
      ],
      "execution_count": 7,
      "outputs": [
        {
          "output_type": "stream",
          "name": "stdout",
          "text": [
            "('TOTAL NUMBER OF CITIES THAT ORGANIZED SUMMER OLYMPICS ARE,', 22)\n"
          ]
        }
      ]
    },
    {
      "cell_type": "markdown",
      "metadata": {
        "id": "juxICbWJMGh5"
      },
      "source": [
        "### 2. Which sport is having most number of Gold Medals so far? (Top 5)"
      ]
    },
    {
      "cell_type": "code",
      "metadata": {
        "colab": {
          "base_uri": "https://localhost:8080/",
          "height": 403
        },
        "id": "lpaacTd0MGh6",
        "outputId": "4e045fbe-06aa-4181-9ec7-1ff566653a65"
      },
      "source": [
        "goldMedal =[]\n",
        "\n",
        "for sport in df['Sport'].unique():\n",
        "  gold =0\n",
        "  for i in range(len(data)):\n",
        "    if(data[i][2]==sport):\n",
        "      if(data[i][8]==\"Gold\"):\n",
        "        gold+=1\n",
        "\n",
        "  goldMedal.append([sport,gold]) \n",
        "       \n",
        "pd.DataFrame(goldMedal,columns = ['sport','medal']).sort_values(by='medal', ascending=False).head().plot(x = 'sport', y = 'medal', kind = 'bar', figsize = (10,5))\n",
        "\n",
        "  \n",
        "      "
      ],
      "execution_count": 8,
      "outputs": [
        {
          "output_type": "execute_result",
          "data": {
            "text/plain": [
              "<matplotlib.axes._subplots.AxesSubplot at 0x7f184058b450>"
            ]
          },
          "metadata": {},
          "execution_count": 8
        },
        {
          "output_type": "display_data",
          "data": {
            "image/png": "[encoded data removed]",
            "text/plain": [
              "<Figure size 720x360 with 1 Axes>"
            ]
          },
          "metadata": {
            "needs_background": "light"
          }
        }
      ]
    },
    {
      "cell_type": "code",
      "metadata": {
        "colab": {
          "base_uri": "https://localhost:8080/"
        },
        "id": "UhSEXQsQ6Lia",
        "outputId": "dffae804-5ac6-4ec4-93f9-c7b4f1abb1fb"
      },
      "source": [
        "goldMedal"
      ],
      "execution_count": 9,
      "outputs": [
        {
          "output_type": "execute_result",
          "data": {
            "text/plain": [
              "[['Aquatics', 1421],\n",
              " ['Athletics', 1215],\n",
              " ['Cycling', 371],\n",
              " ['Fencing', 552],\n",
              " ['Gymnastics', 820],\n",
              " ['Shooting', 384],\n",
              " ['Tennis', 92],\n",
              " ['Weightlifting', 200],\n",
              " ['Wrestling', 391],\n",
              " ['Archery', 126],\n",
              " ['Basque Pelota', 2],\n",
              " ['Cricket', 12],\n",
              " ['Croquet', 4],\n",
              " ['Equestrian', 320],\n",
              " ['Football', 503],\n",
              " ['Golf', 13],\n",
              " ['Polo', 22],\n",
              " ['Rowing', 890],\n",
              " ['Rugby', 78],\n",
              " ['Sailing', 412],\n",
              " ['Tug of War', 36],\n",
              " ['Boxing', 239],\n",
              " ['Lacrosse', 28],\n",
              " ['Roque', 1],\n",
              " ['Hockey', 486],\n",
              " ['Jeu de paume', 1],\n",
              " ['Rackets', 3],\n",
              " ['Skating', 9],\n",
              " ['Water Motorsports', 5],\n",
              " ['Modern Pentathlon', 60],\n",
              " ['Ice Hockey', 8],\n",
              " ['Basketball', 342],\n",
              " ['Canoe / Kayak', 334],\n",
              " ['Handball', 321],\n",
              " ['Judo', 123],\n",
              " ['Volleyball', 332],\n",
              " ['Table Tennis', 46],\n",
              " ['Badminton', 46],\n",
              " ['Baseball', 111],\n",
              " ['Softball', 60],\n",
              " ['Taekwondo', 32],\n",
              " ['Triathlon', 8],\n",
              " ['Canoe', 27]]"
            ]
          },
          "metadata": {},
          "execution_count": 9
        }
      ]
    },
    {
      "cell_type": "markdown",
      "metadata": {
        "id": "mIo3WJXeMGh6"
      },
      "source": [
        "### 3. Which sport is having most number of medals so far? (Top 5)"
      ]
    },
    {
      "cell_type": "code",
      "metadata": {
        "id": "YTc68hzGMGh7",
        "colab": {
          "base_uri": "https://localhost:8080/",
          "height": 403
        },
        "outputId": "aac2427b-569f-4487-94c1-edc0c0b43286"
      },
      "source": [
        "Medal =[]\n",
        "\n",
        "for sport in df['Sport'].unique():\n",
        "  count =0\n",
        "  for i in range(len(data)):\n",
        "    if(data[i][2]==sport):\n",
        "        count+=1\n",
        "\n",
        "  Medal.append([sport,count]) \n",
        "       \n",
        "pd.DataFrame(Medal,columns = ['sport','count']).sort_values(by='count', ascending=False).head().plot(x = 'sport', y = 'count', kind = 'bar', figsize = (10,5))"
      ],
      "execution_count": 20,
      "outputs": [
        {
          "output_type": "execute_result",
          "data": {
            "text/plain": [
              "<matplotlib.axes._subplots.AxesSubplot at 0x7f7c1071c510>"
            ]
          },
          "metadata": {},
          "execution_count": 20
        },
        {
          "output_type": "display_data",
          "data": {
            "image/png": "[encoded data removed]",
            "text/plain": [
              "<Figure size 720x360 with 1 Axes>"
            ]
          },
          "metadata": {
            "needs_background": "light"
          }
        }
      ]
    },
    {
      "cell_type": "markdown",
      "metadata": {
        "id": "67QuKO84MGh8"
      },
      "source": [
        "### 4. Which player has won most number of medals? (Top 5)"
      ]
    },
    {
      "cell_type": "code",
      "metadata": {
        "id": "iss5sMDZMGh8",
        "colab": {
          "base_uri": "https://localhost:8080/",
          "height": 462
        },
        "outputId": "8cc8ef56-712b-40f7-c617-f9ae0d3cb80e"
      },
      "source": [
        "Athlete=[]\n",
        "\n",
        "for player in df['Athlete'].unique():\n",
        "  c1=0\n",
        "  for i in range(len(data)):\n",
        "    if(data[i][4]==player):\n",
        "      c1+=1\n",
        "\n",
        "  Athlete.append([player,c1])\n",
        "\n",
        "pd.DataFrame(Athlete,columns=['player','c1']).sort_values(by='c1',ascending=False).head().plot(x='player',y='c1',kind='bar',figsize=(10,5))\n"
      ],
      "execution_count": 24,
      "outputs": [
        {
          "output_type": "execute_result",
          "data": {
            "text/plain": [
              "<matplotlib.axes._subplots.AxesSubplot at 0x7f7c1011f190>"
            ]
          },
          "metadata": {},
          "execution_count": 24
        },
        {
          "output_type": "display_data",
          "data": {
            "image/png": "[encoded data removed]",
            "text/plain": [
              "<Figure size 720x360 with 1 Axes>"
            ]
          },
          "metadata": {
            "needs_background": "light"
          }
        }
      ]
    },
    {
      "cell_type": "markdown",
      "metadata": {
        "id": "8LNrO_HGMGh9"
      },
      "source": [
        "### 5. Which player has won most number Gold Medals of medals? (Top 5)"
      ]
    },
    {
      "cell_type": "code",
      "metadata": {
        "id": "4ZCt-BJOMGh9",
        "colab": {
          "base_uri": "https://localhost:8080/",
          "height": 430
        },
        "outputId": "659b93f9-db91-4d75-fe2e-5ed6dafbaf76"
      },
      "source": [
        "goldMedal1 =[]\n",
        "\n",
        "for athlete in df['Athlete'].unique():\n",
        "  gold =0\n",
        "  for i in range(len(data)):\n",
        "    if(data[i][4]==athlete):\n",
        "      if(data[i][8]==\"Gold\"):\n",
        "        gold+=1\n",
        "\n",
        "  goldMedal1.append([athlete,gold]) \n",
        "       \n",
        "pd.DataFrame(goldMedal1,columns = ['Athlete','medal']).sort_values(by='medal', ascending=False).head().plot(x = 'Athlete', y = 'medal', kind = 'bar', figsize = (10,5))\n"
      ],
      "execution_count": 10,
      "outputs": [
        {
          "output_type": "execute_result",
          "data": {
            "text/plain": [
              "<matplotlib.axes._subplots.AxesSubplot at 0x7f18404a0ad0>"
            ]
          },
          "metadata": {},
          "execution_count": 10
        },
        {
          "output_type": "display_data",
          "data": {
            "image/png": "[encoded data removed]",
            "text/plain": [
              "<Figure size 720x360 with 1 Axes>"
            ]
          },
          "metadata": {
            "needs_background": "light"
          }
        }
      ]
    },
    {
      "cell_type": "markdown",
      "metadata": {
        "id": "9qgys7d2MGh-"
      },
      "source": [
        "### 6. In which year India won first Gold Medal in Summer Olympics?"
      ]
    },
    {
      "cell_type": "code",
      "metadata": {
        "id": "w58P25QwMGh-",
        "colab": {
          "base_uri": "https://localhost:8080/"
        },
        "outputId": "f2e8b57e-36c7-41ab-fb30-d80711515f1b"
      },
      "source": [
        "\n",
        "for i in range(len(data)):\n",
        "  if(data[i][5]=='IND'):\n",
        "    if(data[i][8]==\"Gold\"):\n",
        "      break\n",
        "     \n",
        "print(\"India won the first Gold Medal in Summer Olympic in the year\",data[i][0])        \n",
        " \n"
      ],
      "execution_count": 12,
      "outputs": [
        {
          "output_type": "stream",
          "name": "stdout",
          "text": [
            "('India won the first Gold Medal in Summer Olympic in the year', 1928)\n"
          ]
        }
      ]
    },
    {
      "cell_type": "markdown",
      "metadata": {
        "id": "TjJXX1JQMGh_"
      },
      "source": [
        "### 7. Which event is most popular in terms on number of players? (Top 5)"
      ]
    },
    {
      "cell_type": "code",
      "metadata": {
        "id": "JtakQg7EMGh_",
        "colab": {
          "base_uri": "https://localhost:8080/",
          "height": 436
        },
        "outputId": "2fdddfe4-caa8-4bb3-d2a0-e4e5d06b04d8"
      },
      "source": [
        "Event =[]\n",
        "\n",
        "for event in df['Event'].unique():\n",
        "  c2 =0\n",
        "  for i in range(len(data)):\n",
        "    if(data[i][7]==event):\n",
        "      c2+=1\n",
        "\n",
        "  Event.append([event,c2]) \n",
        "       \n",
        "pd.DataFrame(Event,columns = ['event','c2']).sort_values(by='c2', ascending=False).head().plot(x = 'event', y = 'c2', kind = 'bar', figsize = (10,5))\n"
      ],
      "execution_count": 13,
      "outputs": [
        {
          "output_type": "execute_result",
          "data": {
            "text/plain": [
              "<matplotlib.axes._subplots.AxesSubplot at 0x7f1839e96e90>"
            ]
          },
          "metadata": {},
          "execution_count": 13
        },
        {
          "output_type": "display_data",
          "data": {
            "image/png": "[encoded data removed]",
            "text/plain": [
              "<Figure size 720x360 with 1 Axes>"
            ]
          },
          "metadata": {
            "needs_background": "light"
          }
        }
      ]
    },
    {
      "cell_type": "markdown",
      "metadata": {
        "id": "Knw8AM5qMGiA"
      },
      "source": [
        "### 8. Which sport is having most female Gold Medalists? (Top 5)"
      ]
    },
    {
      "cell_type": "code",
      "metadata": {
        "id": "p3IriFhuMGiB",
        "colab": {
          "base_uri": "https://localhost:8080/",
          "height": 403
        },
        "outputId": "4eef838b-c55a-4d6e-8e81-73951ef58b84"
      },
      "source": [
        "FemaleMedalist =[]\n",
        "\n",
        "femaleGold =[]\n",
        "for sport in df['Sport'].unique():\n",
        "  fCount = 0\n",
        "  for i in range(len(data)):\n",
        "    if(data[i][2]==sport):\n",
        "      if(data[i][6]=='Women' and data[i][8]=='Gold'):\n",
        "        fCount+=1\n",
        "  femaleGold.append([sport,fCount])     \n",
        "pd.DataFrame(femaleGold,columns = ['sport','fCount']).sort_values(by='fCount', ascending=False).head().plot(x = 'sport', y = 'fCount', kind = 'bar', figsize = (10,5))\n"
      ],
      "execution_count": 16,
      "outputs": [
        {
          "output_type": "execute_result",
          "data": {
            "text/plain": [
              "<matplotlib.axes._subplots.AxesSubplot at 0x7f183e46c810>"
            ]
          },
          "metadata": {},
          "execution_count": 16
        },
        {
          "output_type": "display_data",
          "data": {
            "image/png": "[encoded data removed]",
            "text/plain": [
              "<Figure size 720x360 with 1 Axes>"
            ]
          },
          "metadata": {
            "needs_background": "light"
          }
        }
      ]
    }
  ]
}